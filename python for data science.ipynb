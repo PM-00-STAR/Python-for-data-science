{
 "cells": [
  {
   "cell_type": "code",
   "execution_count": 1,
   "id": "cb969f80",
   "metadata": {},
   "outputs": [
    {
     "ename": "IndentationError",
     "evalue": "unexpected indent (<ipython-input-1-5e0dd7ac0dd9>, line 2)",
     "output_type": "error",
     "traceback": [
      "\u001b[1;36m  File \u001b[1;32m\"<ipython-input-1-5e0dd7ac0dd9>\"\u001b[1;36m, line \u001b[1;32m2\u001b[0m\n\u001b[1;33m    str1\u001b[0m\n\u001b[1;37m    ^\u001b[0m\n\u001b[1;31mIndentationError\u001b[0m\u001b[1;31m:\u001b[0m unexpected indent\n"
     ]
    }
   ],
   "source": [
    "  str1 = 'pratibha'\n",
    "    str1"
   ]
  },
  {
   "cell_type": "code",
   "execution_count": null,
   "id": "b97325af",
   "metadata": {},
   "outputs": [],
   "source": [
    "str_me = 'pratibha'\n",
    "str_me\n",
    "\n"
   ]
  },
  {
   "cell_type": "code",
   "execution_count": 2,
   "id": "fefd99d8",
   "metadata": {},
   "outputs": [
    {
     "data": {
      "text/plain": [
       "'hello'"
      ]
     },
     "execution_count": 2,
     "metadata": {},
     "output_type": "execute_result"
    }
   ],
   "source": [
    "str = 'hello'\n",
    "str\n"
   ]
  },
  {
   "cell_type": "code",
   "execution_count": 3,
   "id": "1d0f4bf5",
   "metadata": {},
   "outputs": [
    {
     "data": {
      "text/plain": [
       "'me'"
      ]
     },
     "execution_count": 3,
     "metadata": {},
     "output_type": "execute_result"
    }
   ],
   "source": [
    "str_1 = 'me'\n",
    "str_1"
   ]
  },
  {
   "cell_type": "code",
   "execution_count": 4,
   "id": "847b173f",
   "metadata": {},
   "outputs": [
    {
     "ename": "NameError",
     "evalue": "name 'true' is not defined",
     "output_type": "error",
     "traceback": [
      "\u001b[1;31m---------------------------------------------------------------------------\u001b[0m",
      "\u001b[1;31mNameError\u001b[0m                                 Traceback (most recent call last)",
      "\u001b[1;32m<ipython-input-4-b5cdc2a77492>\u001b[0m in \u001b[0;36m<module>\u001b[1;34m\u001b[0m\n\u001b[1;32m----> 1\u001b[1;33m \u001b[0mtup1\u001b[0m \u001b[1;33m=\u001b[0m\u001b[1;33m(\u001b[0m\u001b[1;36m1\u001b[0m\u001b[1;33m,\u001b[0m\u001b[0mtrue\u001b[0m\u001b[1;33m,\u001b[0m\u001b[1;36m3.14\u001b[0m\u001b[1;33m,\u001b[0m\u001b[1;36m5\u001b[0m\u001b[1;33m-\u001b[0m\u001b[1;36m7j\u001b[0m\u001b[1;33m)\u001b[0m\u001b[1;33m\u001b[0m\u001b[1;33m\u001b[0m\u001b[0m\n\u001b[0m\u001b[0;32m      2\u001b[0m \u001b[0mtup1\u001b[0m\u001b[1;33m\u001b[0m\u001b[1;33m\u001b[0m\u001b[0m\n",
      "\u001b[1;31mNameError\u001b[0m: name 'true' is not defined"
     ]
    }
   ],
   "source": [
    "tup1 =(1,true,3.14,5-7j)\n",
    "tup1"
   ]
  },
  {
   "cell_type": "code",
   "execution_count": null,
   "id": "fb486c35",
   "metadata": {},
   "outputs": [],
   "source": [
    "tup1 =(1,true,3.14,5-7j)"
   ]
  },
  {
   "cell_type": "code",
   "execution_count": null,
   "id": "23441682",
   "metadata": {},
   "outputs": [],
   "source": [
    "tup1 = (1,true,3.14,5-7j)"
   ]
  },
  {
   "cell_type": "code",
   "execution_count": null,
   "id": "b8a3924f",
   "metadata": {},
   "outputs": [],
   "source": [
    "tup1 =(1,true,3.14,5-7j)"
   ]
  },
  {
   "cell_type": "code",
   "execution_count": null,
   "id": "1b62a893",
   "metadata": {},
   "outputs": [],
   "source": [
    "tup1"
   ]
  },
  {
   "cell_type": "code",
   "execution_count": null,
   "id": "42322ec8",
   "metadata": {},
   "outputs": [],
   "source": [
    "tup1 = (1,true,3.14,5-7j)"
   ]
  },
  {
   "cell_type": "code",
   "execution_count": null,
   "id": "e6b5929c",
   "metadata": {},
   "outputs": [],
   "source": [
    "tup1"
   ]
  },
  {
   "cell_type": "code",
   "execution_count": null,
   "id": "3c5cc657",
   "metadata": {},
   "outputs": [],
   "source": [
    "tup1 = (1,true,3.14,5-7j)"
   ]
  },
  {
   "cell_type": "code",
   "execution_count": null,
   "id": "5ac11ab0",
   "metadata": {},
   "outputs": [],
   "source": [
    "tup_1 = (1,true,3.14,5-7j)"
   ]
  },
  {
   "cell_type": "code",
   "execution_count": null,
   "id": "d3e15f4b",
   "metadata": {},
   "outputs": [],
   "source": [
    "tup_1 =(1,true,3.14,5-7j)\n",
    "tup_1"
   ]
  },
  {
   "cell_type": "code",
   "execution_count": null,
   "id": "b2c0a9f8",
   "metadata": {},
   "outputs": [],
   "source": [
    "tup1 = (1,true,3.14,5-7j)\n",
    "tup1"
   ]
  },
  {
   "cell_type": "code",
   "execution_count": null,
   "id": "2473640d",
   "metadata": {},
   "outputs": [],
   "source": [
    "tup1 = (1,3.14,5-7j)\n",
    "tup1"
   ]
  },
  {
   "cell_type": "code",
   "execution_count": null,
   "id": "6a4bf24e",
   "metadata": {},
   "outputs": [],
   "source": [
    "tup1 = (1,true,3.14,5-7j)\n"
   ]
  },
  {
   "cell_type": "code",
   "execution_count": null,
   "id": "480d489e",
   "metadata": {},
   "outputs": [],
   "source": [
    "tup1 = (1,3.14,5-7j)"
   ]
  },
  {
   "cell_type": "code",
   "execution_count": null,
   "id": "7e72b8fe",
   "metadata": {},
   "outputs": [],
   "source": [
    "tup1"
   ]
  },
  {
   "cell_type": "code",
   "execution_count": null,
   "id": "9bd2a61a",
   "metadata": {},
   "outputs": [],
   "source": [
    "tup1 = (1,True,3.14,5-7j)\n"
   ]
  },
  {
   "cell_type": "code",
   "execution_count": null,
   "id": "096777c1",
   "metadata": {},
   "outputs": [],
   "source": [
    "tup1"
   ]
  },
  {
   "cell_type": "code",
   "execution_count": null,
   "id": "eaa32a57",
   "metadata": {},
   "outputs": [],
   "source": [
    "tup1[2] = 'me'"
   ]
  },
  {
   "cell_type": "code",
   "execution_count": null,
   "id": "0bc517fa",
   "metadata": {},
   "outputs": [],
   "source": [
    "len(tup1)\n"
   ]
  },
  {
   "cell_type": "code",
   "execution_count": null,
   "id": "81b36150",
   "metadata": {},
   "outputs": [],
   "source": [
    "def hello():\n",
    "    print(\"Hello world\")\n",
    "    hello()"
   ]
  },
  {
   "cell_type": "code",
   "execution_count": null,
   "id": "e8d1ddd5",
   "metadata": {},
   "outputs": [],
   "source": [
    "hello()"
   ]
  },
  {
   "cell_type": "code",
   "execution_count": null,
   "id": "86d6d573",
   "metadata": {},
   "outputs": [],
   "source": [
    "def hello():\n",
    "    print(\"Hello world\")"
   ]
  },
  {
   "cell_type": "code",
   "execution_count": null,
   "id": "026294d3",
   "metadata": {},
   "outputs": [],
   "source": [
    "hello()"
   ]
  },
  {
   "cell_type": "code",
   "execution_count": null,
   "id": "d9c7eccc",
   "metadata": {},
   "outputs": [],
   "source": [
    "#function in python"
   ]
  },
  {
   "cell_type": "code",
   "execution_count": null,
   "id": "a1a8fb58",
   "metadata": {},
   "outputs": [],
   "source": [
    "def add_10(x):\n",
    "    return x+10"
   ]
  },
  {
   "cell_type": "code",
   "execution_count": null,
   "id": "2e5a3d7f",
   "metadata": {},
   "outputs": [],
   "source": [
    "add_10(9)"
   ]
  },
  {
   "cell_type": "code",
   "execution_count": null,
   "id": "9e1c8800",
   "metadata": {},
   "outputs": [],
   "source": [
    "def odd_even(x):\n",
    "        if x%2==0:\n",
    "            print(x, \"is even\")\n",
    "        else:\n",
    "            print(x, \"is odd\")\n",
    "            "
   ]
  },
  {
   "cell_type": "code",
   "execution_count": null,
   "id": "194e67ef",
   "metadata": {},
   "outputs": [],
   "source": [
    "odd_even(5)"
   ]
  },
  {
   "cell_type": "code",
   "execution_count": null,
   "id": "c96f9572",
   "metadata": {},
   "outputs": [],
   "source": [
    "g = lambda x: x*x*x"
   ]
  },
  {
   "cell_type": "code",
   "execution_count": null,
   "id": "d4a9f44a",
   "metadata": {},
   "outputs": [],
   "source": [
    "g(10)"
   ]
  },
  {
   "cell_type": "code",
   "execution_count": null,
   "id": "ff8ec856",
   "metadata": {},
   "outputs": [],
   "source": [
    "#lamda with filter function"
   ]
  },
  {
   "cell_type": "code",
   "execution_count": null,
   "id": "36cd7e21",
   "metadata": {},
   "outputs": [],
   "source": [
    "l1 = [23,45,98,1,5,4]\n",
    "final=list(filter(lambda x: (x%2!=0),l1))\n"
   ]
  },
  {
   "cell_type": "code",
   "execution_count": null,
   "id": "a9e9568f",
   "metadata": {},
   "outputs": [],
   "source": [
    "final\n"
   ]
  },
  {
   "cell_type": "code",
   "execution_count": null,
   "id": "a6a319e2",
   "metadata": {},
   "outputs": [],
   "source": [
    "#lambda with map function"
   ]
  },
  {
   "cell_type": "code",
   "execution_count": null,
   "id": "f5a3f49c",
   "metadata": {},
   "outputs": [],
   "source": [
    "l1 = [1,2,3,4,5,6]"
   ]
  },
  {
   "cell_type": "code",
   "execution_count": null,
   "id": "d3cd0b74",
   "metadata": {},
   "outputs": [],
   "source": [
    "list_final=list(map(lambda x: x*2,l1))"
   ]
  },
  {
   "cell_type": "code",
   "execution_count": null,
   "id": "eb3269ba",
   "metadata": {},
   "outputs": [],
   "source": [
    "list_final"
   ]
  },
  {
   "cell_type": "code",
   "execution_count": null,
   "id": "db447ec9",
   "metadata": {},
   "outputs": [],
   "source": [
    "# functools is a submodule reduce is a function lambda is a keyword,reduce is used when single output is obtained out of a sequence\n"
   ]
  },
  {
   "cell_type": "code",
   "execution_count": null,
   "id": "2774350d",
   "metadata": {},
   "outputs": [],
   "source": [
    "from functools import reduce\n"
   ]
  },
  {
   "cell_type": "code",
   "execution_count": null,
   "id": "5b645a37",
   "metadata": {},
   "outputs": [],
   "source": [
    "sum=reduce(lambda x,y: x+y,l1)"
   ]
  },
  {
   "cell_type": "code",
   "execution_count": null,
   "id": "a94a8cf9",
   "metadata": {},
   "outputs": [],
   "source": [
    "sum"
   ]
  },
  {
   "cell_type": "code",
   "execution_count": null,
   "id": "6ecd2e16",
   "metadata": {},
   "outputs": [],
   "source": [
    "#objects are specific instances of class,class is a superset of objects"
   ]
  },
  {
   "cell_type": "code",
   "execution_count": null,
   "id": "3a57f487",
   "metadata": {},
   "outputs": [],
   "source": [
    "#class always starts with a capital letter\n"
   ]
  },
  {
   "cell_type": "code",
   "execution_count": null,
   "id": "f1ff7feb",
   "metadata": {},
   "outputs": [],
   "source": [
    "#inside class we add methods"
   ]
  },
  {
   "cell_type": "code",
   "execution_count": null,
   "id": "5c67aecc",
   "metadata": {},
   "outputs": [],
   "source": [
    "class Phone:\n",
    "    def make_call(self):\n",
    "        print(\"I am making a call\")\n",
    "    def open_app(self):\n",
    "        print(\"i am opening an app\")\n",
    "        \n",
    "            "
   ]
  },
  {
   "cell_type": "code",
   "execution_count": null,
   "id": "1b8b502c",
   "metadata": {},
   "outputs": [],
   "source": [
    "obj1 = Phone()"
   ]
  },
  {
   "cell_type": "code",
   "execution_count": null,
   "id": "daed9717",
   "metadata": {},
   "outputs": [],
   "source": [
    "obj1.make_call()"
   ]
  },
  {
   "cell_type": "code",
   "execution_count": null,
   "id": "5f40476a",
   "metadata": {},
   "outputs": [],
   "source": [
    "obj1.open_app()"
   ]
  },
  {
   "cell_type": "code",
   "execution_count": null,
   "id": "15cee10b",
   "metadata": {},
   "outputs": [],
   "source": [
    "#first define methods in class then define object and then call methods using object(OOP)\n",
    "#BASICALLY self AS PARAMETER IS USED\n"
   ]
  },
  {
   "cell_type": "code",
   "execution_count": null,
   "id": "8bdd48d2",
   "metadata": {},
   "outputs": [],
   "source": [
    "#Adding parameters to the class apart from self\n"
   ]
  },
  {
   "cell_type": "code",
   "execution_count": null,
   "id": "e8b14c77",
   "metadata": {},
   "outputs": [],
   "source": [
    "#constructor is a method to create object,it is defined using init method,adding parameters becomes easier"
   ]
  },
  {
   "cell_type": "code",
   "execution_count": null,
   "id": "870c3c90",
   "metadata": {},
   "outputs": [],
   "source": [
    "class Employee:\n",
    "    def __init__(self,name,age,salary,gender):\n",
    "        self.name = name\n",
    "        self.age = age\n",
    "        self.salary = salary\n",
    "        self.gender = gender\n",
    "    def show_employee_details(self):\n",
    "        print(\"Name of employee is \",self.name)\n",
    "        print(\"age of employee is \",self.age)\n",
    "        print(\"salary of employee is \",self.salary)\n",
    "        print(\"age of employee is \",self.gender)"
   ]
  },
  {
   "cell_type": "code",
   "execution_count": null,
   "id": "58e08647",
   "metadata": {},
   "outputs": [],
   "source": [
    "p2 = Employee('Ram',32,50000,'male')\n"
   ]
  },
  {
   "cell_type": "code",
   "execution_count": null,
   "id": "f6ccd662",
   "metadata": {},
   "outputs": [],
   "source": [
    "p2.show_employee_details()\n"
   ]
  },
  {
   "cell_type": "code",
   "execution_count": null,
   "id": "17f1a7fa",
   "metadata": {},
   "outputs": [],
   "source": [
    "ob2 = Employee('pratibha',23,10000,'female')\n"
   ]
  },
  {
   "cell_type": "code",
   "execution_count": null,
   "id": "8a8eefce",
   "metadata": {},
   "outputs": [],
   "source": [
    "ob2.show_employee_details()\n"
   ]
  },
  {
   "cell_type": "code",
   "execution_count": null,
   "id": "7f264792",
   "metadata": {},
   "outputs": [],
   "source": [
    "#inheritence in Object oriented programming"
   ]
  },
  {
   "cell_type": "code",
   "execution_count": null,
   "id": "c2d3b3b1",
   "metadata": {},
   "outputs": [],
   "source": [
    " #first base class is created like above then child clases are made"
   ]
  },
  {
   "cell_type": "code",
   "execution_count": null,
   "id": "5ccdc2a4",
   "metadata": {},
   "outputs": [],
   "source": [
    "class Performance(Employee):\n",
    "    def show_performance_details(self):\n",
    "        print(\"i am super performer\")"
   ]
  },
  {
   "cell_type": "code",
   "execution_count": null,
   "id": "b6448a59",
   "metadata": {},
   "outputs": [],
   "source": [
    "a1 = Performance('A',69,9000,'male')\n"
   ]
  },
  {
   "cell_type": "code",
   "execution_count": null,
   "id": "7ed202fd",
   "metadata": {},
   "outputs": [],
   "source": [
    "p3.show_employee_details()"
   ]
  },
  {
   "cell_type": "code",
   "execution_count": null,
   "id": "48fa3c0f",
   "metadata": {},
   "outputs": [],
   "source": [
    "p3.show_performance_details()\n",
    "\n"
   ]
  },
  {
   "cell_type": "code",
   "execution_count": null,
   "id": "b554e74f",
   "metadata": {},
   "outputs": [],
   "source": [
    "#below is the correct example of inherited class from base class in OOP programming of python"
   ]
  },
  {
   "cell_type": "code",
   "execution_count": null,
   "id": "869dcf74",
   "metadata": {},
   "outputs": [],
   "source": [
    " class Student:\n",
    "        def __init__(self,age,gender):\n",
    "            self.age = age\n",
    "            self.gender = gender\n",
    "        def show_student_details(self):\n",
    "            print(\"age is\",self.age)\n",
    "            print(\"gender is\",self.gender)\n",
    "            print(\"i am a student\")\n",
    "            \n",
    "             "
   ]
  },
  {
   "cell_type": "code",
   "execution_count": null,
   "id": "3e578d47",
   "metadata": {},
   "outputs": [],
   "source": [
    "s1 = Student(34,'male')\n"
   ]
  },
  {
   "cell_type": "code",
   "execution_count": null,
   "id": "89b7f858",
   "metadata": {},
   "outputs": [],
   "source": [
    "s1.show_student_details()\n",
    "\n",
    "\n"
   ]
  },
  {
   "cell_type": "code",
   "execution_count": null,
   "id": "1be4cad4",
   "metadata": {},
   "outputs": [],
   "source": [
    "class Class(Student):\n",
    "    pass\n",
    "    def show_class_details(self):\n",
    "        print('i am in class x')\n",
    "    \n",
    "    "
   ]
  },
  {
   "cell_type": "code",
   "execution_count": null,
   "id": "0422cf2b",
   "metadata": {},
   "outputs": [],
   "source": [
    "h1 = Class(15,'female')\n"
   ]
  },
  {
   "cell_type": "code",
   "execution_count": null,
   "id": "e7ada912",
   "metadata": {},
   "outputs": [],
   "source": [
    "h1.show_student_details()"
   ]
  },
  {
   "cell_type": "code",
   "execution_count": null,
   "id": "857a4d9e",
   "metadata": {},
   "outputs": [],
   "source": [
    "h1.show_class_details()"
   ]
  },
  {
   "cell_type": "code",
   "execution_count": null,
   "id": "68d7555f",
   "metadata": {},
   "outputs": [],
   "source": [
    "#use pass keyword for child class to get inherited"
   ]
  },
  {
   "cell_type": "code",
   "execution_count": null,
   "id": "21a424e3",
   "metadata": {},
   "outputs": [],
   "source": [
    "#over riding init method or super function method in inheritance"
   ]
  },
  {
   "cell_type": "code",
   "execution_count": null,
   "id": "7241dffc",
   "metadata": {},
   "outputs": [],
   "source": [
    "#super method is used to include more parameters in child  class apart from parent class"
   ]
  },
  {
   "cell_type": "code",
   "execution_count": null,
   "id": "13c5b509",
   "metadata": {},
   "outputs": [],
   "source": [
    "#in multiple inheritence child inherits from parent class"
   ]
  },
  {
   "cell_type": "code",
   "execution_count": null,
   "id": "24f8ef50",
   "metadata": {},
   "outputs": [],
   "source": [
    "#libraries in python\n"
   ]
  },
  {
   "cell_type": "code",
   "execution_count": null,
   "id": "b068a40d",
   "metadata": {},
   "outputs": [],
   "source": [
    "import numpy as np"
   ]
  },
  {
   "cell_type": "code",
   "execution_count": null,
   "id": "1a2cbc60",
   "metadata": {},
   "outputs": [],
   "source": [
    "li = [1,2,3,4]\n"
   ]
  },
  {
   "cell_type": "code",
   "execution_count": null,
   "id": "4ee0dbce",
   "metadata": {},
   "outputs": [],
   "source": [
    "n1=np.array(li)"
   ]
  },
  {
   "cell_type": "code",
   "execution_count": null,
   "id": "93a05180",
   "metadata": {},
   "outputs": [],
   "source": [
    "n1\n"
   ]
  },
  {
   "cell_type": "code",
   "execution_count": null,
   "id": "9f63ec36",
   "metadata": {},
   "outputs": [],
   "source": [
    "type(n1)"
   ]
  },
  {
   "cell_type": "code",
   "execution_count": null,
   "id": "898c63a9",
   "metadata": {},
   "outputs": [],
   "source": [
    "#numpy and dimensional array"
   ]
  },
  {
   "cell_type": "code",
   "execution_count": null,
   "id": "0ac1432c",
   "metadata": {},
   "outputs": [],
   "source": [
    "np.array([[1,2,3,4],[5,6,7,8]])\n"
   ]
  },
  {
   "cell_type": "code",
   "execution_count": null,
   "id": "4fdb6423",
   "metadata": {},
   "outputs": [],
   "source": [
    "#initializing arrays using zeros method\n"
   ]
  },
  {
   "cell_type": "code",
   "execution_count": null,
   "id": "32f54ab5",
   "metadata": {},
   "outputs": [],
   "source": [
    "n3 = np.zeros((2,3))"
   ]
  },
  {
   "cell_type": "code",
   "execution_count": null,
   "id": "d131be4f",
   "metadata": {},
   "outputs": [],
   "source": [
    "n3\n"
   ]
  },
  {
   "cell_type": "code",
   "execution_count": null,
   "id": "2bdc3348",
   "metadata": {},
   "outputs": [],
   "source": [
    "n3 = np.zeros((10,10))\n"
   ]
  },
  {
   "cell_type": "code",
   "execution_count": null,
   "id": "0c20d636",
   "metadata": {},
   "outputs": [],
   "source": [
    "#initializing using full method for getting samw number"
   ]
  },
  {
   "cell_type": "code",
   "execution_count": null,
   "id": "e9f902e8",
   "metadata": {},
   "outputs": [],
   "source": [
    "n4 = np.full((2,4),10)\n",
    "n4"
   ]
  },
  {
   "cell_type": "code",
   "execution_count": null,
   "id": "18c35f2f",
   "metadata": {},
   "outputs": [],
   "source": [
    "#initializing numpy array within a range using arange method"
   ]
  },
  {
   "cell_type": "code",
   "execution_count": null,
   "id": "277c718d",
   "metadata": {},
   "outputs": [],
   "source": [
    "n5=np.arange(10,20)\n",
    "n5\n",
    "\n"
   ]
  },
  {
   "cell_type": "code",
   "execution_count": null,
   "id": "c2eb560e",
   "metadata": {},
   "outputs": [],
   "source": [
    "#for skipping \n"
   ]
  },
  {
   "cell_type": "code",
   "execution_count": null,
   "id": "7237ce31",
   "metadata": {},
   "outputs": [],
   "source": [
    "n6=np.arange(10,50,5)\n",
    "n6"
   ]
  },
  {
   "cell_type": "code",
   "execution_count": null,
   "id": "7ff3f323",
   "metadata": {},
   "outputs": [],
   "source": [
    "#submodule random and method randint for getting random values"
   ]
  },
  {
   "cell_type": "code",
   "execution_count": null,
   "id": "a53b131a",
   "metadata": {},
   "outputs": [],
   "source": [
    "np.random.randint(200,300,10)"
   ]
  },
  {
   "cell_type": "code",
   "execution_count": null,
   "id": "5dc9b822",
   "metadata": {},
   "outputs": [],
   "source": [
    "#joining two numpy arrays\n"
   ]
  },
  {
   "cell_type": "code",
   "execution_count": null,
   "id": "a0a592d1",
   "metadata": {},
   "outputs": [],
   "source": [
    "\n",
    "import numpy as np\n",
    "n1=np.array([10,20,30,40])\n",
    "n2=np.array([40,50,60,70])\n",
    "\n",
    "\n",
    "np.vstack((n1,n2))\n",
    "\n",
    "\n",
    "\n",
    "\n",
    "\n"
   ]
  },
  {
   "cell_type": "code",
   "execution_count": null,
   "id": "a9f9f709",
   "metadata": {},
   "outputs": [],
   "source": [
    "np.hstack((n1,n2))"
   ]
  },
  {
   "cell_type": "code",
   "execution_count": null,
   "id": "1247776c",
   "metadata": {},
   "outputs": [],
   "source": [
    "np.column_stack((n1,n2))"
   ]
  },
  {
   "cell_type": "code",
   "execution_count": null,
   "id": "e9b41363",
   "metadata": {},
   "outputs": [],
   "source": [
    "#numpy intersection and difference"
   ]
  },
  {
   "cell_type": "code",
   "execution_count": null,
   "id": "7ddb074d",
   "metadata": {},
   "outputs": [],
   "source": [
    "np.intersect1d(n1,n2)\n"
   ]
  },
  {
   "cell_type": "code",
   "execution_count": null,
   "id": "b55e1d56",
   "metadata": {},
   "outputs": [],
   "source": [
    "np.setdiff1d(n1,n2)"
   ]
  },
  {
   "cell_type": "code",
   "execution_count": null,
   "id": "094d66b2",
   "metadata": {},
   "outputs": [],
   "source": [
    "np.setdiff1d(n2,n1)"
   ]
  },
  {
   "cell_type": "code",
   "execution_count": null,
   "id": "e0dc2fc6",
   "metadata": {},
   "outputs": [],
   "source": [
    "#addition of numpy arrays"
   ]
  },
  {
   "cell_type": "code",
   "execution_count": null,
   "id": "e9dd13f7",
   "metadata": {},
   "outputs": [],
   "source": [
    "np.sum([n1,n2])"
   ]
  },
  {
   "cell_type": "code",
   "execution_count": null,
   "id": "93dfc879",
   "metadata": {},
   "outputs": [],
   "source": [
    "np.sum([n1,n2],axis=0)"
   ]
  },
  {
   "cell_type": "code",
   "execution_count": null,
   "id": "ea742d1b",
   "metadata": {},
   "outputs": [],
   "source": [
    "np.sum([n1,n2],axis=1)"
   ]
  },
  {
   "cell_type": "code",
   "execution_count": null,
   "id": "8e2ba784",
   "metadata": {},
   "outputs": [],
   "source": [
    "n3=np.random.randint(1,50,10)"
   ]
  },
  {
   "cell_type": "code",
   "execution_count": null,
   "id": "4c019d5f",
   "metadata": {},
   "outputs": [],
   "source": [
    "n3\n"
   ]
  },
  {
   "cell_type": "code",
   "execution_count": null,
   "id": "6129871e",
   "metadata": {},
   "outputs": [],
   "source": [
    "np.mean(n1)"
   ]
  },
  {
   "cell_type": "code",
   "execution_count": null,
   "id": "f97e9439",
   "metadata": {},
   "outputs": [],
   "source": [
    "np.median(n1)"
   ]
  },
  {
   "cell_type": "code",
   "execution_count": null,
   "id": "999aa496",
   "metadata": {},
   "outputs": [],
   "source": [
    "np.std(n1)"
   ]
  },
  {
   "cell_type": "code",
   "execution_count": null,
   "id": "4edbc1cb",
   "metadata": {},
   "outputs": [],
   "source": [
    "#saving and loading numpy array"
   ]
  },
  {
   "cell_type": "code",
   "execution_count": null,
   "id": "18ee4784",
   "metadata": {},
   "outputs": [],
   "source": [
    "np.save('myarray',n3)"
   ]
  },
  {
   "cell_type": "code",
   "execution_count": null,
   "id": "9af855d6",
   "metadata": {},
   "outputs": [],
   "source": [
    "new_obj=np.load('myarray.npy')"
   ]
  },
  {
   "cell_type": "code",
   "execution_count": null,
   "id": "ef0533b1",
   "metadata": {},
   "outputs": [],
   "source": [
    "new_obj"
   ]
  },
  {
   "cell_type": "code",
   "execution_count": null,
   "id": "5a60cfcc",
   "metadata": {},
   "outputs": [],
   "source": [
    "import pandas as pd"
   ]
  },
  {
   "cell_type": "code",
   "execution_count": null,
   "id": "a0d1c923",
   "metadata": {},
   "outputs": [],
   "source": [
    "dict1 = {\n",
    "    \"name\" : ['pratibha','rohan','anwesha'],\n",
    "    \"roll\" : [40,23,38],\n",
    "    \"college\" : ['nit','bit','du']\n",
    "}"
   ]
  },
  {
   "cell_type": "code",
   "execution_count": null,
   "id": "469570c6",
   "metadata": {},
   "outputs": [],
   "source": [
    "df=pd.DataFrame(dict1)\n",
    "\n"
   ]
  },
  {
   "cell_type": "code",
   "execution_count": null,
   "id": "7ffe1307",
   "metadata": {},
   "outputs": [],
   "source": [
    "df"
   ]
  },
  {
   "cell_type": "code",
   "execution_count": null,
   "id": "5abcacec",
   "metadata": {},
   "outputs": [],
   "source": [
    "df.to_csv('friends.csv')\n",
    "\n",
    "\n",
    "\n"
   ]
  },
  {
   "cell_type": "code",
   "execution_count": null,
   "id": "7a8f6283",
   "metadata": {},
   "outputs": [],
   "source": [
    "\n",
    "\n"
   ]
  },
  {
   "cell_type": "code",
   "execution_count": null,
   "id": "3fc54eb9",
   "metadata": {},
   "outputs": [],
   "source": [
    "df.head(2)\n",
    "\n",
    "\n",
    "\n",
    "\n"
   ]
  },
  {
   "cell_type": "code",
   "execution_count": null,
   "id": "177ca999",
   "metadata": {},
   "outputs": [],
   "source": [
    "df.tail(2)"
   ]
  },
  {
   "cell_type": "code",
   "execution_count": null,
   "id": "e593cea2",
   "metadata": {},
   "outputs": [],
   "source": [
    "df.describe()"
   ]
  },
  {
   "cell_type": "code",
   "execution_count": null,
   "id": "51bb0b28",
   "metadata": {},
   "outputs": [],
   "source": [
    "df.to_csv('new.csv')\n",
    "\n"
   ]
  },
  {
   "cell_type": "code",
   "execution_count": null,
   "id": "c2220147",
   "metadata": {},
   "outputs": [],
   "source": [
    "new = pd.read_csv('new.csv')"
   ]
  },
  {
   "cell_type": "code",
   "execution_count": null,
   "id": "4d33304e",
   "metadata": {},
   "outputs": [],
   "source": [
    "new"
   ]
  },
  {
   "cell_type": "code",
   "execution_count": null,
   "id": "3d6c0627",
   "metadata": {},
   "outputs": [],
   "source": [
    "new['name'][2] = 'ajith'\n",
    "\n"
   ]
  },
  {
   "cell_type": "code",
   "execution_count": null,
   "id": "34c4ec69",
   "metadata": {},
   "outputs": [],
   "source": [
    "new"
   ]
  },
  {
   "cell_type": "code",
   "execution_count": null,
   "id": "aa1455dd",
   "metadata": {},
   "outputs": [],
   "source": [
    "new"
   ]
  },
  {
   "cell_type": "code",
   "execution_count": null,
   "id": "16d5174d",
   "metadata": {},
   "outputs": [],
   "source": [
    "new.index = ['AM','PM','Tonight']"
   ]
  },
  {
   "cell_type": "code",
   "execution_count": null,
   "id": "37aa622a",
   "metadata": {},
   "outputs": [],
   "source": []
  },
  {
   "cell_type": "code",
   "execution_count": null,
   "id": "af4fd196",
   "metadata": {},
   "outputs": [],
   "source": [
    "new"
   ]
  },
  {
   "cell_type": "code",
   "execution_count": null,
   "id": "a8a78a43",
   "metadata": {},
   "outputs": [],
   "source": [
    "me = new.iloc[0:8,2:3] \n",
    "\n",
    "me\n",
    "\n",
    "le = new.iloc[0:8,0]\n",
    "le"
   ]
  },
  {
   "cell_type": "code",
   "execution_count": null,
   "id": "2c349787",
   "metadata": {},
   "outputs": [],
   "source": [
    "import pandas as pd\n",
    "import matplotlib.pyplot as plt\n",
    "%matplotlib inline\n",
    "import seaborn as sns\n",
    "print(\"Setup Complete\")\n",
    "\n",
    "\n"
   ]
  },
  {
   "cell_type": "code",
   "execution_count": null,
   "id": "1e7f8b4f",
   "metadata": {},
   "outputs": [],
   "source": [
    "sns.distplot(me)\n",
    "\n",
    "plt.show\n"
   ]
  },
  {
   "cell_type": "code",
   "execution_count": null,
   "id": "c02f6fab",
   "metadata": {},
   "outputs": [],
   "source": [
    "plt.plot([1,2,3],[3,25,10])\n",
    "plt.xlabel('amount')\n",
    "plt.ylabel('experience')\n",
    "plt.title('salary of employees')\n",
    "plt.show()\n"
   ]
  },
  {
   "cell_type": "code",
   "execution_count": null,
   "id": "a0f4066a",
   "metadata": {},
   "outputs": [],
   "source": [
    "#adding style to the graph\n"
   ]
  },
  {
   "cell_type": "code",
   "execution_count": null,
   "id": "1af335f4",
   "metadata": {},
   "outputs": [],
   "source": [
    "from matplotlib import style\n"
   ]
  },
  {
   "cell_type": "code",
   "execution_count": null,
   "id": "14850f3b",
   "metadata": {},
   "outputs": [],
   "source": [
    "style.use('ggplot')"
   ]
  },
  {
   "cell_type": "code",
   "execution_count": null,
   "id": "d783d630",
   "metadata": {},
   "outputs": [],
   "source": [
    "plt.plot(me,'g',label='line one',linewidth=5)"
   ]
  },
  {
   "cell_type": "code",
   "execution_count": null,
   "id": "38ea5650",
   "metadata": {},
   "outputs": [],
   "source": [
    "plt.plot(le,'c',label='line one',linewidth=5)\n",
    "plt.legend()\n",
    "plt.grid(True,color='k')"
   ]
  },
  {
   "cell_type": "code",
   "execution_count": null,
   "id": "f33b3aeb",
   "metadata": {},
   "outputs": [],
   "source": [
    "plt.plot(me,'g',label='line one',linewidth=5)\n",
    "plt.plot(le,'c',label='line one',linewidth=5)\n",
    "plt.legend()\n",
    "plt.grid(True,color='k')\n"
   ]
  },
  {
   "cell_type": "code",
   "execution_count": null,
   "id": "207baea3",
   "metadata": {},
   "outputs": [],
   "source": [
    "plt.bar([1,2,3,4],[2,4,6,10],label='line one',linewidth=5,color='g')\n",
    "plt.bar([10,15,17],[24,29,35],label='line one',linewidth=5,color='c')\n",
    "plt.legend()\n",
    "plt.grid(True,color='k')\n"
   ]
  },
  {
   "cell_type": "code",
   "execution_count": null,
   "id": "9eb52d6a",
   "metadata": {},
   "outputs": [],
   "source": [
    "import pandas as pd\n"
   ]
  },
  {
   "cell_type": "code",
   "execution_count": null,
   "id": "7a7dd2bf",
   "metadata": {},
   "outputs": [],
   "source": [
    "nifty = pd.read_csv('NIFTY50stocks.csv')\n",
    "\n"
   ]
  },
  {
   "cell_type": "code",
   "execution_count": 5,
   "id": "9dae91ba",
   "metadata": {},
   "outputs": [
    {
     "ename": "NameError",
     "evalue": "name 'nifty' is not defined",
     "output_type": "error",
     "traceback": [
      "\u001b[1;31m---------------------------------------------------------------------------\u001b[0m",
      "\u001b[1;31mNameError\u001b[0m                                 Traceback (most recent call last)",
      "\u001b[1;32m<ipython-input-5-3d1bb5359f56>\u001b[0m in \u001b[0;36m<module>\u001b[1;34m\u001b[0m\n\u001b[1;32m----> 1\u001b[1;33m \u001b[0mnifty\u001b[0m\u001b[1;33m\u001b[0m\u001b[1;33m\u001b[0m\u001b[0m\n\u001b[0m",
      "\u001b[1;31mNameError\u001b[0m: name 'nifty' is not defined"
     ]
    }
   ],
   "source": [
    "nifty"
   ]
  },
  {
   "cell_type": "code",
   "execution_count": null,
   "id": "a11b219d",
   "metadata": {},
   "outputs": [],
   "source": [
    "nifty.head()"
   ]
  },
  {
   "cell_type": "code",
   "execution_count": null,
   "id": "b9421f6c",
   "metadata": {},
   "outputs": [],
   "source": [
    "nifty.mean() \n",
    "\n"
   ]
  },
  {
   "cell_type": "code",
   "execution_count": null,
   "id": "43253e57",
   "metadata": {},
   "outputs": [],
   "source": [
    "plt.plot(nifty.mean(),'g',label='line one',linewidth=5)\n",
    "plt.legend()\n",
    "plt.grid(True,color='k')"
   ]
  },
  {
   "cell_type": "code",
   "execution_count": null,
   "id": "82f91468",
   "metadata": {},
   "outputs": [],
   "source": [
    "nifty.mean().hist(figsize=(20,30))"
   ]
  },
  {
   "cell_type": "code",
   "execution_count": null,
   "id": "1ad22c3c",
   "metadata": {},
   "outputs": [],
   "source": [
    "nifty.hist(figsize=(20,30))\n"
   ]
  },
  {
   "cell_type": "code",
   "execution_count": null,
   "id": "7bbcf831",
   "metadata": {},
   "outputs": [],
   "source": [
    "sns.boxplot(data=nifty)\n",
    "\n"
   ]
  },
  {
   "cell_type": "code",
   "execution_count": null,
   "id": "86869bb8",
   "metadata": {},
   "outputs": [],
   "source": [
    "sns.boxplot(data=nifty.mean())"
   ]
  },
  {
   "cell_type": "code",
   "execution_count": null,
   "id": "145a774a",
   "metadata": {},
   "outputs": [],
   "source": [
    "sns.pairplot(data=nifty)"
   ]
  },
  {
   "cell_type": "code",
   "execution_count": null,
   "id": "1afca554",
   "metadata": {},
   "outputs": [],
   "source": [
    "sns.pairplot(data=nifty.mean())\n",
    "\n",
    "\n"
   ]
  },
  {
   "cell_type": "code",
   "execution_count": null,
   "id": "cd00a206",
   "metadata": {},
   "outputs": [],
   "source": [
    "#finding relationship between variables using corr() function and plotting heatmap\n"
   ]
  },
  {
   "cell_type": "code",
   "execution_count": null,
   "id": "33ec1f76",
   "metadata": {},
   "outputs": [],
   "source": [
    "plt.figure(figsize=(20,10))\n",
    "c = me.corr()\n",
    "sns.heatmap(c,cmap=\"BrBG\",annot=True)\n",
    "c\n"
   ]
  },
  {
   "cell_type": "markdown",
   "id": "ad152856",
   "metadata": {},
   "source": [
    "# HELLO\n",
    "\n"
   ]
  },
  {
   "cell_type": "code",
   "execution_count": null,
   "id": "4b2b8e5f",
   "metadata": {},
   "outputs": [],
   "source": []
  },
  {
   "cell_type": "code",
   "execution_count": null,
   "id": "08627358",
   "metadata": {},
   "outputs": [],
   "source": []
  },
  {
   "cell_type": "code",
   "execution_count": null,
   "id": "d35c4cf2",
   "metadata": {},
   "outputs": [],
   "source": []
  },
  {
   "cell_type": "code",
   "execution_count": null,
   "id": "d6f2468c",
   "metadata": {},
   "outputs": [],
   "source": []
  },
  {
   "cell_type": "code",
   "execution_count": null,
   "id": "e9f5d5c9",
   "metadata": {},
   "outputs": [],
   "source": []
  },
  {
   "cell_type": "code",
   "execution_count": null,
   "id": "5b12881a",
   "metadata": {},
   "outputs": [],
   "source": []
  }
 ],
 "metadata": {
  "kernelspec": {
   "display_name": "Python 3",
   "language": "python",
   "name": "python3"
  },
  "language_info": {
   "codemirror_mode": {
    "name": "ipython",
    "version": 3
   },
   "file_extension": ".py",
   "mimetype": "text/x-python",
   "name": "python",
   "nbconvert_exporter": "python",
   "pygments_lexer": "ipython3",
   "version": "3.8.8"
  }
 },
 "nbformat": 4,
 "nbformat_minor": 5
}
